{
 "cells": [
  {
   "cell_type": "markdown",
   "metadata": {},
   "source": [
    " # Gramener Tasks"
   ]
  },
  {
   "cell_type": "markdown",
   "metadata": {},
   "source": [
    "## 1. Given two lists L1 = ['a', 'b', 'c'], L2 = ['b', 'd'], find common elements, find elements present in L1 and not in L2?"
   ]
  },
  {
   "cell_type": "code",
   "execution_count": 3,
   "metadata": {
    "scrolled": true
   },
   "outputs": [
    {
     "name": "stdout",
     "output_type": "stream",
     "text": [
      "common elements ['b']\n",
      "L1 not in L2 ['c', 'a']\n"
     ]
    }
   ],
   "source": [
    "#passing lists\n",
    "L1=['a','b','c']\n",
    "L2=['b','d']\n",
    "#common elements using interesecion since set operations are faster than list comprehension\n",
    "C=list(set(L1)&set(L2))\n",
    "# l1 not in L2\n",
    "Z=list(set(L1)-set(C))\n",
    "print(\"common elements\",C)\n",
    "print(\"L1 not in L2\",Z )"
   ]
  },
  {
   "cell_type": "markdown",
   "metadata": {},
   "source": [
    "## 2. How many Thursdays were there between 1990 - 2000? (jan 1 1990 to dec 31 2000)"
   ]
  },
  {
   "cell_type": "code",
   "execution_count": 17,
   "metadata": {},
   "outputs": [
    {
     "name": "stdout",
     "output_type": "stream",
     "text": [
      "Toal number of thursdays 574\n"
     ]
    }
   ],
   "source": [
    "from datetime import datetime\n",
    "from datetime import timedelta\n",
    "\n",
    "start=datetime(1990,1,1) \n",
    "end=datetime(2000,12,31) \n",
    "diff=end-start    #difference of dates\n",
    "totaldays=diff.days   #calucating total number of days\n",
    "thursdays=0           #intiating thurdays equal to zero\n",
    "for i in range(1,totaldays):\n",
    "    dates=start+timedelta(days=i)\n",
    "    if(dates.weekday()==3):\n",
    "        thursdays=thursdays+1\n",
    "        \n",
    "print(\"Toal number of thursdays\",thursdays)"
   ]
  },
  {
   "cell_type": "code",
   "execution_count": null,
   "metadata": {},
   "outputs": [],
   "source": []
  }
 ],
 "metadata": {
  "kernelspec": {
   "display_name": "Python 3",
   "language": "python",
   "name": "python3"
  },
  "language_info": {
   "codemirror_mode": {
    "name": "ipython",
    "version": 3
   },
   "file_extension": ".py",
   "mimetype": "text/x-python",
   "name": "python",
   "nbconvert_exporter": "python",
   "pygments_lexer": "ipython3",
   "version": "3.6.3"
  }
 },
 "nbformat": 4,
 "nbformat_minor": 2
}
