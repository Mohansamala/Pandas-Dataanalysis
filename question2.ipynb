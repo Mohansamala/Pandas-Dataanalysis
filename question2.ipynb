{
 "cells": [
  {
   "cell_type": "code",
   "execution_count": 1,
   "metadata": {},
   "outputs": [],
   "source": [
    "import pandas as pd\n",
    "import numpy as numpy\n",
    "import matplotlib as mpl  \n",
    "import matplotlib.cm as cm \n",
    "import matplotlib.pyplot as plt\n"
   ]
  },
  {
   "cell_type": "markdown",
   "metadata": {},
   "source": [
    "# Data Loading and Transformation"
   ]
  },
  {
   "cell_type": "code",
   "execution_count": 2,
   "metadata": {},
   "outputs": [],
   "source": [
    "marks=pd.read_csv(\"nas-pupil-marks.csv \") #loading the data set\n"
   ]
  },
  {
   "cell_type": "code",
   "execution_count": 3,
   "metadata": {},
   "outputs": [],
   "source": [
    "marks=marks.drop_duplicates()     #deleting the duplicate rows"
   ]
  },
  {
   "cell_type": "code",
   "execution_count": 6,
   "metadata": {},
   "outputs": [],
   "source": [
    "#marks.fillna(marks.mean(),inplace=True) #handling the nans and due to presence of too many nans filling is done using mean\n",
    "\n",
    "marks.fillna(0,inplace=True)"
   ]
  },
  {
   "cell_type": "code",
   "execution_count": 7,
   "metadata": {},
   "outputs": [
    {
     "data": {
      "text/plain": [
       "0    48.15\n",
       "1    51.14\n",
       "2    97.78\n",
       "3    92.67\n",
       "4    22.88\n",
       "Name: performance, dtype: float64"
      ]
     },
     "execution_count": 7,
     "metadata": {},
     "output_type": "execute_result"
    }
   ],
   "source": [
    "marks[\"performance\"]=(marks[\"Maths %\"]+marks[\"Reading %\"]+marks[\"Science %\"]+marks[\"Social %\"]) \n",
    "#performance is taken as sum of marks in all subjects\n",
    "marks[\"performance\"].head()\n"
   ]
  },
  {
   "cell_type": "code",
   "execution_count": 8,
   "metadata": {},
   "outputs": [
    {
     "data": {
      "text/html": [
       "<div>\n",
       "<style scoped>\n",
       "    .dataframe tbody tr th:only-of-type {\n",
       "        vertical-align: middle;\n",
       "    }\n",
       "\n",
       "    .dataframe tbody tr th {\n",
       "        vertical-align: top;\n",
       "    }\n",
       "\n",
       "    .dataframe thead th {\n",
       "        text-align: right;\n",
       "    }\n",
       "</style>\n",
       "<table border=\"1\" class=\"dataframe\">\n",
       "  <thead>\n",
       "    <tr style=\"text-align: right;\">\n",
       "      <th></th>\n",
       "      <th>Boy</th>\n",
       "      <th>Girl</th>\n",
       "    </tr>\n",
       "    <tr>\n",
       "      <th>State</th>\n",
       "      <th></th>\n",
       "      <th></th>\n",
       "    </tr>\n",
       "  </thead>\n",
       "  <tbody>\n",
       "    <tr>\n",
       "      <th>AN</th>\n",
       "      <td>111.575983</td>\n",
       "      <td>118.665085</td>\n",
       "    </tr>\n",
       "    <tr>\n",
       "      <th>AP</th>\n",
       "      <td>62.188431</td>\n",
       "      <td>65.257787</td>\n",
       "    </tr>\n",
       "    <tr>\n",
       "      <th>AR</th>\n",
       "      <td>70.734237</td>\n",
       "      <td>69.273129</td>\n",
       "    </tr>\n",
       "    <tr>\n",
       "      <th>BR</th>\n",
       "      <td>75.695252</td>\n",
       "      <td>71.638280</td>\n",
       "    </tr>\n",
       "    <tr>\n",
       "      <th>CG</th>\n",
       "      <td>68.954173</td>\n",
       "      <td>68.711168</td>\n",
       "    </tr>\n",
       "  </tbody>\n",
       "</table>\n",
       "</div>"
      ],
      "text/plain": [
       "              Boy        Girl\n",
       "State                        \n",
       "AN     111.575983  118.665085\n",
       "AP      62.188431   65.257787\n",
       "AR      70.734237   69.273129\n",
       "BR      75.695252   71.638280\n",
       "CG      68.954173   68.711168"
      ]
     },
     "execution_count": 8,
     "metadata": {},
     "output_type": "execute_result"
    }
   ],
   "source": [
    "#summarising the data by gender \n",
    "bg=marks.pivot_table(\"performance\",index=[\"State\"],columns=[\"Gender\"], aggfunc =\"mean\")\n",
    "\n",
    "del bg[0]\n",
    "bg.columns=[\"Boy\",\"Girl\"]\n",
    "bg.head()"
   ]
  },
  {
   "cell_type": "code",
   "execution_count": 9,
   "metadata": {},
   "outputs": [
    {
     "data": {
      "text/plain": [
       "12"
      ]
     },
     "execution_count": 9,
     "metadata": {},
     "output_type": "execute_result"
    }
   ],
   "source": [
    "#Total states where boys perform better than girls\n",
    "boysbest=bg[bg[\"Boy\"]>bg[\"Girl\"]]\n",
    "len(boysbest)"
   ]
  },
  {
   "cell_type": "code",
   "execution_count": 10,
   "metadata": {},
   "outputs": [
    {
     "data": {
      "text/plain": [
       "21"
      ]
     },
     "execution_count": 10,
     "metadata": {},
     "output_type": "execute_result"
    }
   ],
   "source": [
    "#Total states where girls perform better than boys\n",
    "girlbest=bg[bg[\"Boy\"]<bg[\"Girl\"]]\n",
    "len(girlbest)"
   ]
  },
  {
   "cell_type": "code",
   "execution_count": 12,
   "metadata": {},
   "outputs": [
    {
     "name": "stdout",
     "output_type": "stream",
     "text": [
      "maximum difference between girls and boys performance\n",
      "               Boy        Girl      diff\n",
      "State                                  \n",
      "DD     181.771355  191.580112  9.808756 \n",
      "\n",
      "minimum dofference between girls and boys performance \n",
      "              Boy       Girl      diff\n",
      "State                                \n",
      "CG     68.954173  68.711168  0.243005 \n",
      "\n"
     ]
    }
   ],
   "source": [
    "girlbest=bg[bg[\"Boy\"]<bg[\"Girl\"]]\n",
    "len(girlbest)\n",
    "bg[\"diff\"]=abs(bg[\"Boy\"]-bg[\"Girl\"])\n",
    "maxdiff=bg[\"diff\"].max()\n",
    "mindiff=bg[\"diff\"].min()\n",
    "maxstate=bg[bg[\"diff\"]==maxdiff]\n",
    "minstate=bg[bg[\"diff\"]==mindiff]\n",
    "print(\"maximum difference between girls and boys performance\\n\",maxstate,\"\\n\")\n",
    "print(\"minimum dofference between girls and boys performance \\n\",minstate,\"\\n\")\n"
   ]
  },
  {
   "cell_type": "code",
   "execution_count": 13,
   "metadata": {},
   "outputs": [
    {
     "name": "stdout",
     "output_type": "stream",
     "text": [
      "maximum average  performance of boys is 181.77135514 in the state DD \n",
      "\n",
      "minimum average  performance of boys is 59.6509441301 in the state HP \n",
      "\n",
      "maximum average  performance of Girls is 191.580111524 in the state DD \n",
      "\n",
      "minimum average  performance of Girls is 60.8979829172 in the state HP \n",
      "\n"
     ]
    },
    {
     "name": "stderr",
     "output_type": "stream",
     "text": [
      "c:\\users\\mohan\\appdata\\local\\programs\\python\\python36-32\\lib\\site-packages\\ipykernel_launcher.py:5: FutureWarning: 'argmax' is deprecated. Use 'idxmax' instead. The behavior of 'argmax' will be corrected to return the positional maximum in the future. Use 'series.values.argmax' to get the position of the maximum now.\n",
      "  \"\"\"\n",
      "c:\\users\\mohan\\appdata\\local\\programs\\python\\python36-32\\lib\\site-packages\\ipykernel_launcher.py:6: FutureWarning: 'argmin' is deprecated. Use 'idxmin' instead. The behavior of 'argmin' will be corrected to return the positional minimum in the future. Use 'series.values.argmin' to get the position of the minimum now.\n",
      "  \n",
      "c:\\users\\mohan\\appdata\\local\\programs\\python\\python36-32\\lib\\site-packages\\ipykernel_launcher.py:7: FutureWarning: 'argmax' is deprecated. Use 'idxmax' instead. The behavior of 'argmax' will be corrected to return the positional maximum in the future. Use 'series.values.argmax' to get the position of the maximum now.\n",
      "  import sys\n",
      "c:\\users\\mohan\\appdata\\local\\programs\\python\\python36-32\\lib\\site-packages\\ipykernel_launcher.py:8: FutureWarning: 'argmin' is deprecated. Use 'idxmin' instead. The behavior of 'argmin' will be corrected to return the positional minimum in the future. Use 'series.values.argmin' to get the position of the minimum now.\n",
      "  \n"
     ]
    }
   ],
   "source": [
    "maxperfboy=bg[\"Boy\"].max()\n",
    "minperfboy=bg[\"Boy\"].min()\n",
    "maxperfgirl=bg[\"Girl\"].max()\n",
    "minperfgirl=bg[\"Girl\"].min()\n",
    "hbstate=bg[\"Boy\"].argmax()\n",
    "lbstate=bg[\"Boy\"].argmin()\n",
    "hgstate=bg[\"Girl\"].argmax()\n",
    "lgstate=bg[\"Girl\"].argmin()\n",
    "del  bg[\"diff\"]  \n",
    "print(\"maximum average  performance of boys is\" ,maxperfboy,\"in the state\",hbstate,\"\\n\")\n",
    "print(\"minimum average  performance of boys is\" ,minperfboy,\"in the state\",lbstate,\"\\n\")\n",
    "print(\"maximum average  performance of Girls is\" ,maxperfgirl,\"in the state\",hgstate,\"\\n\")\n",
    "print(\"minimum average  performance of Girls is\" ,minperfgirl,\"in the state\",lgstate,\"\\n\")\n"
   ]
  },
  {
   "cell_type": "code",
   "execution_count": 14,
   "metadata": {},
   "outputs": [
    {
     "data": {
      "image/png": "[encoded data removed]",
      "text/plain": [
       "<matplotlib.figure.Figure at 0x33af790>"
      ]
     },
     "metadata": {},
     "output_type": "display_data"
    }
   ],
   "source": [
    "bg.plot(kind=\"bar\",figsize=(19, 10))\n",
    "plt.xlabel(\"states\")\n",
    "plt.ylabel(\"Performance\")\n",
    "plt.title(\"Performance of boys(blue) vs girls(orange)\")\n",
    "plt.show()"
   ]
  },
  {
   "cell_type": "markdown",
   "metadata": {},
   "source": [
    "# Girls perform better than Boys"
   ]
  },
  {
   "cell_type": "code",
   "execution_count": null,
   "metadata": {},
   "outputs": [],
   "source": []
  }
 ],
 "metadata": {
  "kernelspec": {
   "display_name": "Python 3",
   "language": "python",
   "name": "python3"
  },
  "language_info": {
   "codemirror_mode": {
    "name": "ipython",
    "version": 3
   },
   "file_extension": ".py",
   "mimetype": "text/x-python",
   "name": "python",
   "nbconvert_exporter": "python",
   "pygments_lexer": "ipython3",
   "version": "3.6.3"
  }
 },
 "nbformat": 4,
 "nbformat_minor": 2
}
