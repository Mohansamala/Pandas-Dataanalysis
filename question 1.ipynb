{
 "cells": [
  {
   "cell_type": "code",
   "execution_count": 12,
   "metadata": {},
   "outputs": [],
   "source": [
    "import pandas as pd\n",
    "import numpy as numpy\n",
    "import matplotlib as mpl  \n",
    "import matplotlib.cm as cm \n",
    "import matplotlib.pyplot as plt\n"
   ]
  },
  {
   "cell_type": "code",
   "execution_count": 13,
   "metadata": {},
   "outputs": [],
   "source": [
    "marks=pd.read_csv(\"nas-pupil-marks.csv \") #loading the data set\n"
   ]
  },
  {
   "cell_type": "code",
   "execution_count": 14,
   "metadata": {},
   "outputs": [],
   "source": [
    "marks=marks.drop_duplicates()     #deleting the duplicate rows"
   ]
  },
  {
   "cell_type": "code",
   "execution_count": 15,
   "metadata": {},
   "outputs": [],
   "source": [
    "marks.fillna(0,inplace=True) #handling the nans and due to presence of too many nans filling is done"
   ]
  },
  {
   "cell_type": "markdown",
   "metadata": {},
   "source": [
    "# calucation of performance"
   ]
  },
  {
   "cell_type": "code",
   "execution_count": 16,
   "metadata": {},
   "outputs": [
    {
     "data": {
      "text/plain": [
       "0    48.15\n",
       "1    51.14\n",
       "2    97.78\n",
       "3    92.67\n",
       "4    22.88\n",
       "Name: performance, dtype: float64"
      ]
     },
     "execution_count": 16,
     "metadata": {},
     "output_type": "execute_result"
    }
   ],
   "source": [
    "marks[\"performance\"]=(marks[\"Maths %\"]+marks[\"Reading %\"]+marks[\"Science %\"]+marks[\"Social %\"])\n",
    "#performance is taken as sum of marks in all subjects\n",
    "marks[\"performance\"].head()\n"
   ]
  },
  {
   "cell_type": "markdown",
   "metadata": {},
   "source": [
    "## Analysing how attributes of one column affects performance"
   ]
  },
  {
   "cell_type": "raw",
   "metadata": {},
   "source": [
    " Suppose if performance is summarised on vaious attributes of a single column for eg\n",
    " performance of a students is affected by  various attributes of father occupation. These are summarised based on type of occupation.\n",
    "   \n"
   ]
  },
  {
   "cell_type": "code",
   "execution_count": 35,
   "metadata": {},
   "outputs": [
    {
     "data": {
      "text/html": [
       "<div>\n",
       "<style scoped>\n",
       "    .dataframe tbody tr th:only-of-type {\n",
       "        vertical-align: middle;\n",
       "    }\n",
       "\n",
       "    .dataframe tbody tr th {\n",
       "        vertical-align: top;\n",
       "    }\n",
       "\n",
       "    .dataframe thead th {\n",
       "        text-align: right;\n",
       "    }\n",
       "</style>\n",
       "<table border=\"1\" class=\"dataframe\">\n",
       "  <thead>\n",
       "    <tr style=\"text-align: right;\">\n",
       "      <th>Father occupation</th>\n",
       "      <th>0</th>\n",
       "      <th>1</th>\n",
       "      <th>2</th>\n",
       "      <th>3</th>\n",
       "      <th>4</th>\n",
       "      <th>5</th>\n",
       "      <th>6</th>\n",
       "      <th>7</th>\n",
       "      <th>8</th>\n",
       "    </tr>\n",
       "  </thead>\n",
       "  <tbody>\n",
       "    <tr>\n",
       "      <th>performance</th>\n",
       "      <td>73.266098</td>\n",
       "      <td>67.855379</td>\n",
       "      <td>74.266251</td>\n",
       "      <td>73.576156</td>\n",
       "      <td>88.217613</td>\n",
       "      <td>79.11429</td>\n",
       "      <td>81.690768</td>\n",
       "      <td>88.336932</td>\n",
       "      <td>94.524365</td>\n",
       "    </tr>\n",
       "  </tbody>\n",
       "</table>\n",
       "</div>"
      ],
      "text/plain": [
       "Father occupation          0          1          2          3          4  \\\n",
       "performance        73.266098  67.855379  74.266251  73.576156  88.217613   \n",
       "\n",
       "Father occupation         5          6          7          8  \n",
       "performance        79.11429  81.690768  88.336932  94.524365  "
      ]
     },
     "execution_count": 35,
     "metadata": {},
     "output_type": "execute_result"
    }
   ],
   "source": [
    "faoccp=marks.pivot_table(\"performance\",columns='Father occupation',aggfunc=\"mean\")\n",
    "faoccp"
   ]
  },
  {
   "cell_type": "markdown",
   "metadata": {},
   "source": [
    "### TO know  how father occpation  affects performance overall, mean of all subcategories of column is taken\n"
   ]
  },
  {
   "cell_type": "code",
   "execution_count": 38,
   "metadata": {},
   "outputs": [
    {
     "data": {
      "text/plain": [
       "performance    80.094206\n",
       "dtype: float64"
      ]
     },
     "execution_count": 38,
     "metadata": {},
     "output_type": "execute_result"
    }
   ],
   "source": [
    "overall=faoccp.mean(axis=1)\n",
    "overall"
   ]
  },
  {
   "cell_type": "markdown",
   "metadata": {},
   "source": [
    "# Analyzing  for all columns "
   ]
  },
  {
   "cell_type": "raw",
   "metadata": {},
   "source": [
    " Similarly this process is done for all coumns and mean performance regarding each column is calculated and stored in  dataframe ."
   ]
  },
  {
   "cell_type": "raw",
   "metadata": {},
   "source": [
    "Since there all 57 columns calucating one by one is tedious .So looping over columns and summarising the data and passing it into dictionary can be helpful."
   ]
  },
  {
   "cell_type": "code",
   "execution_count": null,
   "metadata": {},
   "outputs": [],
   "source": []
  },
  {
   "cell_type": "code",
   "execution_count": 39,
   "metadata": {},
   "outputs": [],
   "source": [
    "\n",
    "\n",
    "coln=['Gender', 'Age', 'Category',\n",
    "       'Same language', 'Siblings', 'Handicap', 'Father edu', 'Mother edu',\n",
    "       'Father occupation', 'Mother occupation', 'Below poverty',\n",
    "       'Use calculator', 'Use computer', 'Use Internet', 'Use dictionary',\n",
    "       'Read other books', '# Books', 'Distance', 'Computer use',\n",
    "       'Library use', 'Like school', 'Subjects', 'Give Lang HW',\n",
    "       'Give Math HW', 'Give Scie HW', 'Give SoSc HW', 'Correct Lang HW',\n",
    "       'Correct Math HW', 'Correct Scie HW', 'Correct SocS HW',\n",
    "       'Help in Study', 'Private tuition', 'English is difficult',\n",
    "       'Read English', 'Dictionary to learn', 'Answer English WB',\n",
    "       'Answer English aloud', 'Maths is difficult', 'Solve Maths',\n",
    "       'Solve Maths in groups', 'Draw geometry', 'Explain answers',\n",
    "       'SocSci is difficult', 'Historical excursions', 'Participate in SocSci',\n",
    "       'Small groups in SocSci', 'Express SocSci views',\n",
    "       'Science is difficult', 'Observe experiments', 'Conduct experiments',\n",
    "       'Solve science problems', 'Express science views', 'Watch TV',\n",
    "       'Read magazine', 'Read a book', 'Play games', 'Help in household',\n",
    "       ]"
   ]
  },
  {
   "cell_type": "code",
   "execution_count": null,
   "metadata": {},
   "outputs": [],
   "source": []
  },
  {
   "cell_type": "code",
   "execution_count": 41,
   "metadata": {},
   "outputs": [
    {
     "data": {
      "text/html": [
       "<div>\n",
       "<style scoped>\n",
       "    .dataframe tbody tr th:only-of-type {\n",
       "        vertical-align: middle;\n",
       "    }\n",
       "\n",
       "    .dataframe tbody tr th {\n",
       "        vertical-align: top;\n",
       "    }\n",
       "\n",
       "    .dataframe thead th {\n",
       "        text-align: right;\n",
       "    }\n",
       "</style>\n",
       "<table border=\"1\" class=\"dataframe\">\n",
       "  <thead>\n",
       "    <tr style=\"text-align: right;\">\n",
       "      <th></th>\n",
       "      <th># Books</th>\n",
       "      <th>Age</th>\n",
       "      <th>Answer English WB</th>\n",
       "      <th>Answer English aloud</th>\n",
       "      <th>Below poverty</th>\n",
       "      <th>Category</th>\n",
       "      <th>Computer use</th>\n",
       "      <th>Conduct experiments</th>\n",
       "      <th>Correct Lang HW</th>\n",
       "      <th>Correct Math HW</th>\n",
       "      <th>...</th>\n",
       "      <th>SocSci is difficult</th>\n",
       "      <th>Solve Maths</th>\n",
       "      <th>Solve Maths in groups</th>\n",
       "      <th>Solve science problems</th>\n",
       "      <th>Subjects</th>\n",
       "      <th>Use Internet</th>\n",
       "      <th>Use calculator</th>\n",
       "      <th>Use computer</th>\n",
       "      <th>Use dictionary</th>\n",
       "      <th>Watch TV</th>\n",
       "    </tr>\n",
       "  </thead>\n",
       "  <tbody>\n",
       "    <tr>\n",
       "      <th>performance</th>\n",
       "      <td>75.301941</td>\n",
       "      <td>73.3775</td>\n",
       "      <td>71.691044</td>\n",
       "      <td>71.980914</td>\n",
       "      <td>75.608201</td>\n",
       "      <td>74.596841</td>\n",
       "      <td>72.481898</td>\n",
       "      <td>73.405959</td>\n",
       "      <td>73.946469</td>\n",
       "      <td>73.388419</td>\n",
       "      <td>...</td>\n",
       "      <td>73.425555</td>\n",
       "      <td>72.904786</td>\n",
       "      <td>72.036545</td>\n",
       "      <td>73.03428</td>\n",
       "      <td>74.44395</td>\n",
       "      <td>76.549502</td>\n",
       "      <td>74.580458</td>\n",
       "      <td>76.405011</td>\n",
       "      <td>73.272686</td>\n",
       "      <td>72.377558</td>\n",
       "    </tr>\n",
       "  </tbody>\n",
       "</table>\n",
       "<p>1 rows × 57 columns</p>\n",
       "</div>"
      ],
      "text/plain": [
       "               # Books      Age  Answer English WB  Answer English aloud  \\\n",
       "performance  75.301941  73.3775          71.691044             71.980914   \n",
       "\n",
       "             Below poverty   Category  Computer use  Conduct experiments  \\\n",
       "performance      75.608201  74.596841     72.481898            73.405959   \n",
       "\n",
       "             Correct Lang HW  Correct Math HW    ...      SocSci is difficult  \\\n",
       "performance        73.946469        73.388419    ...                73.425555   \n",
       "\n",
       "             Solve Maths  Solve Maths in groups  Solve science problems  \\\n",
       "performance    72.904786              72.036545                73.03428   \n",
       "\n",
       "             Subjects  Use Internet  Use calculator  Use computer  \\\n",
       "performance  74.44395     76.549502       74.580458     76.405011   \n",
       "\n",
       "             Use dictionary   Watch TV  \n",
       "performance       73.272686  72.377558  \n",
       "\n",
       "[1 rows x 57 columns]"
      ]
     },
     "execution_count": 41,
     "metadata": {},
     "output_type": "execute_result"
    }
   ],
   "source": [
    "\n",
    "dic={} #dict to store performance of each column\n",
    "for i in coln:\n",
    "    dc=marks.pivot_table(\"performance\",columns=[i], aggfunc =\"mean\") #summarising data for each column\n",
    "    m=dc.mean(axis=1)   #mean of attributes of  column performance\n",
    "    dic.update({i:m})  # filling the dict\n",
    "    del dc              #deleting the data frame such that loop runs smoothly by clearing storage \n",
    "info=pd.DataFrame(dic)\n",
    "info\n"
   ]
  },
  {
   "cell_type": "code",
   "execution_count": 42,
   "metadata": {},
   "outputs": [
    {
     "data": {
      "text/html": [
       "<div>\n",
       "<style scoped>\n",
       "    .dataframe tbody tr th:only-of-type {\n",
       "        vertical-align: middle;\n",
       "    }\n",
       "\n",
       "    .dataframe tbody tr th {\n",
       "        vertical-align: top;\n",
       "    }\n",
       "\n",
       "    .dataframe thead th {\n",
       "        text-align: right;\n",
       "    }\n",
       "</style>\n",
       "<table border=\"1\" class=\"dataframe\">\n",
       "  <thead>\n",
       "    <tr style=\"text-align: right;\">\n",
       "      <th></th>\n",
       "      <th>performance</th>\n",
       "    </tr>\n",
       "  </thead>\n",
       "  <tbody>\n",
       "    <tr>\n",
       "      <th>Gender</th>\n",
       "      <td>68.980816</td>\n",
       "    </tr>\n",
       "    <tr>\n",
       "      <th>Like school</th>\n",
       "      <td>70.074740</td>\n",
       "    </tr>\n",
       "    <tr>\n",
       "      <th>Help in Study</th>\n",
       "      <td>70.645384</td>\n",
       "    </tr>\n",
       "    <tr>\n",
       "      <th>Handicap</th>\n",
       "      <td>70.951269</td>\n",
       "    </tr>\n",
       "    <tr>\n",
       "      <th>Private tuition</th>\n",
       "      <td>71.366002</td>\n",
       "    </tr>\n",
       "  </tbody>\n",
       "</table>\n",
       "</div>"
      ],
      "text/plain": [
       "                 performance\n",
       "Gender             68.980816\n",
       "Like school        70.074740\n",
       "Help in Study      70.645384\n",
       "Handicap           70.951269\n",
       "Private tuition    71.366002"
      ]
     },
     "execution_count": 42,
     "metadata": {},
     "output_type": "execute_result"
    }
   ],
   "source": [
    "sort_perf=info.T.sort_values(by=[\"performance\"]) #tansposing is done to support sorting in pandas\n",
    "sort_perf.head()"
   ]
  },
  {
   "cell_type": "code",
   "execution_count": 47,
   "metadata": {},
   "outputs": [
    {
     "name": "stdout",
     "output_type": "stream",
     "text": [
      "Top factors that influence peformance:\n",
      "                    performance\n",
      "Mother edu           80.856567\n",
      "Father occupation    80.094206\n",
      "Mother occupation    79.119641\n",
      "Father edu           79.096714\n",
      "Use Internet         76.549502\n"
     ]
    }
   ],
   "source": [
    "print(\"Top factors that influence peformance:\\n\",sort_perf.nlargest(5,\"performance\") )"
   ]
  },
  {
   "cell_type": "code",
   "execution_count": 48,
   "metadata": {},
   "outputs": [
    {
     "name": "stdout",
     "output_type": "stream",
     "text": [
      "Top factors that doesnt influence peformance much:\n",
      "                  performance\n",
      "Gender             68.980816\n",
      "Like school        70.074740\n",
      "Help in Study      70.645384\n",
      "Handicap           70.951269\n",
      "Private tuition    71.366002\n"
     ]
    }
   ],
   "source": [
    "print(\"Top factors that doesnt influence peformance much:\\n\",sort_perf.head() ) \n",
    "#since df is already sorted in ascending order  head() can return required criteria"
   ]
  },
  {
   "cell_type": "code",
   "execution_count": 50,
   "metadata": {},
   "outputs": [
    {
     "data": {
      "image/png": "[encoded data removed]",
      "text/plain": [
       "<matplotlib.figure.Figure at 0x76543f0>"
      ]
     },
     "metadata": {},
     "output_type": "display_data"
    }
   ],
   "source": [
    "sort_perf.plot(kind=\"barh\",figsize=(20, 15))\n",
    "plt.xlabel(\"performance\")\n",
    "plt.ylabel(\"factors affecting performance\")\n",
    "plt.title(\"performance vs factors\")\n",
    "plt.show()"
   ]
  },
  {
   "cell_type": "code",
   "execution_count": null,
   "metadata": {},
   "outputs": [],
   "source": []
  }
 ],
 "metadata": {
  "kernelspec": {
   "display_name": "Python 3",
   "language": "python",
   "name": "python3"
  },
  "language_info": {
   "codemirror_mode": {
    "name": "ipython",
    "version": 3
   },
   "file_extension": ".py",
   "mimetype": "text/x-python",
   "name": "python",
   "nbconvert_exporter": "python",
   "pygments_lexer": "ipython3",
   "version": "3.6.3"
  }
 },
 "nbformat": 4,
 "nbformat_minor": 2
}
